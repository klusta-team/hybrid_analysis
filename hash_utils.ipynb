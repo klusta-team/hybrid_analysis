{
 "metadata": {
  "name": "hash_utils"
 },
 "nbformat": 3,
 "nbformat_minor": 0,
 "worksheets": [
  {
   "cells": [
    {
     "cell_type": "code",
     "collapsed": false,
     "input": [
      "import hashlib as hl\n",
      "import joblib_utils as ju\n",
      "import string\n",
      "\n",
      "@ju.func_cache\n",
      "def hash_dictionary_md5(dict1):\n",
      "    hashdict = hl.md5(repr(sorted(dict1.items(), key= lambda (key,val): key))).hexdigest()\n",
      "    print hashdict\n",
      "    return hashdict\n",
      "\n",
      "def get_product_hashlist(dictlist):\n",
      "    '''gives the product hash of a list of dictionaries,\n",
      "       e.g. dictlist = [dict1, dict2, dict3]\n",
      "       product_hash = [Hash(dict1),Hash(dict2),Hash(dict3)]\n",
      "    '''\n",
      "    dictlisthash = []\n",
      "    for dictio in dictlist:\n",
      "        dictlisthash.append(hash_dictionary_md5(dictio))\n",
      "    return dictlisthash\n",
      "\n",
      "def make_concatenated_filename(dictlisthash):\n",
      "    ''' concatenate [Hash(dict1),Hash(dict2),Hash(dict3)] to give\n",
      "        producthash = Hash(dict1)_Hash(dict2)_Hash(dict3)'''\n",
      "    producthash = string.join(dictlisthash,'_')\n",
      "    return producthash"
     ],
     "language": "python",
     "metadata": {},
     "outputs": []
    }
   ],
   "metadata": {}
  }
 ]
}